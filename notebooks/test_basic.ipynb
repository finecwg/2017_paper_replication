{
 "cells": [
  {
   "cell_type": "code",
   "execution_count": 1,
   "metadata": {},
   "outputs": [
    {
     "name": "stderr",
     "output_type": "stream",
     "text": [
      "\u001b[32m\u001b[1m  Activating\u001b[22m\u001b[39m project at `~/Home/Desktop/amugeona/2017_paper_replication`\n",
      "\u001b[91m\u001b[1mERROR: \u001b[22m\u001b[39mLoadError: UndefVarError: `DirichletToNeumannOperator` not defined in `BouncingDroplet`\n",
      "Stacktrace:\n",
      " [1] top-level scope\n",
      "\u001b[90m   @\u001b[39m \u001b[90m~/Home/Desktop/amugeona/2017_paper_replication/src/solver/\u001b[39m\u001b[90m\u001b[4mmatrix_assembly.jl:1\u001b[24m\u001b[39m\n",
      " [2] \u001b[0m\u001b[1minclude\u001b[22m\u001b[0m\u001b[1m(\u001b[22m\u001b[90mmod\u001b[39m::\u001b[0mModule, \u001b[90m_path\u001b[39m::\u001b[0mString\u001b[0m\u001b[1m)\u001b[22m\n",
      "\u001b[90m   @\u001b[39m \u001b[90mBase\u001b[39m \u001b[90m./\u001b[39m\u001b[90m\u001b[4mBase.jl:562\u001b[24m\u001b[39m\n",
      " [3] \u001b[0m\u001b[1minclude\u001b[22m\u001b[0m\u001b[1m(\u001b[22m\u001b[90mx\u001b[39m::\u001b[0mString\u001b[0m\u001b[1m)\u001b[22m\n",
      "\u001b[90m   @\u001b[39m \u001b[35mBouncingDroplet\u001b[39m \u001b[90m~/Home/Desktop/amugeona/2017_paper_replication/src/\u001b[39m\u001b[90m\u001b[4mBouncingDroplet.jl:1\u001b[24m\u001b[39m\n",
      " [4] top-level scope\n",
      "\u001b[90m   @\u001b[39m \u001b[90m~/Home/Desktop/amugeona/2017_paper_replication/src/\u001b[39m\u001b[90m\u001b[4mBouncingDroplet.jl:35\u001b[24m\u001b[39m\n",
      " [5] \u001b[0m\u001b[1minclude\u001b[22m\n",
      "\u001b[90m   @\u001b[39m \u001b[90m./\u001b[39m\u001b[90m\u001b[4mBase.jl:562\u001b[24m\u001b[39m\u001b[90m [inlined]\u001b[39m\n",
      " [6] \u001b[0m\u001b[1minclude_package_for_output\u001b[22m\u001b[0m\u001b[1m(\u001b[22m\u001b[90mpkg\u001b[39m::\u001b[0mBase.PkgId, \u001b[90minput\u001b[39m::\u001b[0mString, \u001b[90mdepot_path\u001b[39m::\u001b[0mVector\u001b[90m{String}\u001b[39m, \u001b[90mdl_load_path\u001b[39m::\u001b[0mVector\u001b[90m{String}\u001b[39m, \u001b[90mload_path\u001b[39m::\u001b[0mVector\u001b[90m{String}\u001b[39m, \u001b[90mconcrete_deps\u001b[39m::\u001b[0mVector\u001b[90m{Pair{Base.PkgId, UInt128}}\u001b[39m, \u001b[90msource\u001b[39m::\u001b[0mString\u001b[0m\u001b[1m)\u001b[22m\n",
      "\u001b[90m   @\u001b[39m \u001b[90mBase\u001b[39m \u001b[90m./\u001b[39m\u001b[90m\u001b[4mloading.jl:2881\u001b[24m\u001b[39m\n",
      " [7] top-level scope\n",
      "\u001b[90m   @\u001b[39m \u001b[90m\u001b[4mstdin:6\u001b[24m\u001b[39m\n",
      "in expression starting at /Users/helloworld/Home/Desktop/amugeona/2017_paper_replication/src/solver/matrix_assembly.jl:1\n",
      "in expression starting at /Users/helloworld/Home/Desktop/amugeona/2017_paper_replication/src/BouncingDroplet.jl:1\n",
      "in expression starting at stdin:6\n"
     ]
    },
    {
     "ename": "ErrorException",
     "evalue": "Failed to precompile BouncingDroplet [12345678-1234-1234-1234-123456789abc] to \"/Users/helloworld/.julia/compiled/v1.11/BouncingDroplet/jl_TWUyEK\".",
     "output_type": "error",
     "traceback": [
      "Failed to precompile BouncingDroplet [12345678-1234-1234-1234-123456789abc] to \"/Users/helloworld/.julia/compiled/v1.11/BouncingDroplet/jl_TWUyEK\".\n",
      "\n",
      "Stacktrace:\n",
      "  [1] error(s::String)\n",
      "    @ Base ./error.jl:35\n",
      "  [2] compilecache(pkg::Base.PkgId, path::String, internal_stderr::IO, internal_stdout::IO, keep_loaded_modules::Bool; flags::Cmd, cacheflags::Base.CacheFlags, reasons::Dict{String, Int64}, loadable_exts::Nothing)\n",
      "    @ Base ./loading.jl:3174\n",
      "  [3] (::Base.var\"#1110#1111\"{Base.PkgId})()\n",
      "    @ Base ./loading.jl:2579\n",
      "  [4] mkpidlock(f::Base.var\"#1110#1111\"{Base.PkgId}, at::String, pid::Int32; kwopts::@Kwargs{stale_age::Int64, wait::Bool})\n",
      "    @ FileWatching.Pidfile /Applications/Julia-1.11.app/Contents/Resources/julia/share/julia/stdlib/v1.11/FileWatching/src/pidfile.jl:95\n",
      "  [5] #mkpidlock#6\n",
      "    @ /Applications/Julia-1.11.app/Contents/Resources/julia/share/julia/stdlib/v1.11/FileWatching/src/pidfile.jl:90 [inlined]\n",
      "  [6] trymkpidlock(::Function, ::Vararg{Any}; kwargs::@Kwargs{stale_age::Int64})\n",
      "    @ FileWatching.Pidfile /Applications/Julia-1.11.app/Contents/Resources/julia/share/julia/stdlib/v1.11/FileWatching/src/pidfile.jl:116\n",
      "  [7] #invokelatest#2\n",
      "    @ ./essentials.jl:1057 [inlined]\n",
      "  [8] invokelatest\n",
      "    @ ./essentials.jl:1052 [inlined]\n",
      "  [9] maybe_cachefile_lock(f::Base.var\"#1110#1111\"{Base.PkgId}, pkg::Base.PkgId, srcpath::String; stale_age::Int64)\n",
      "    @ Base ./loading.jl:3698\n",
      " [10] maybe_cachefile_lock\n",
      "    @ ./loading.jl:3695 [inlined]\n",
      " [11] _require(pkg::Base.PkgId, env::String)\n",
      "    @ Base ./loading.jl:2565\n",
      " [12] __require_prelocked(uuidkey::Base.PkgId, env::String)\n",
      "    @ Base ./loading.jl:2388\n",
      " [13] #invoke_in_world#3\n",
      "    @ ./essentials.jl:1089 [inlined]\n",
      " [14] invoke_in_world\n",
      "    @ ./essentials.jl:1086 [inlined]\n",
      " [15] _require_prelocked(uuidkey::Base.PkgId, env::String)\n",
      "    @ Base ./loading.jl:2375\n",
      " [16] macro expansion\n",
      "    @ ./loading.jl:2314 [inlined]\n",
      " [17] macro expansion\n",
      "    @ ./lock.jl:273 [inlined]\n",
      " [18] __require(into::Module, mod::Symbol)\n",
      "    @ Base ./loading.jl:2271\n",
      " [19] #invoke_in_world#3\n",
      "    @ ./essentials.jl:1089 [inlined]\n",
      " [20] invoke_in_world\n",
      "    @ ./essentials.jl:1086 [inlined]\n",
      " [21] require(into::Module, mod::Symbol)\n",
      "    @ Base ./loading.jl:2260\n",
      " [22] eval\n",
      "    @ ./boot.jl:430 [inlined]\n",
      " [23] include_string(mapexpr::typeof(REPL.softscope), mod::Module, code::String, filename::String)\n",
      "    @ Base ./loading.jl:2734\n",
      " [24] #invokelatest#2\n",
      "    @ ./essentials.jl:1055 [inlined]\n",
      " [25] invokelatest\n",
      "    @ ./essentials.jl:1052 [inlined]\n",
      " [26] (::VSCodeServer.var\"#217#218\"{VSCodeServer.NotebookRunCellArguments, String})()\n",
      "    @ VSCodeServer ~/.cursor/extensions/julialang.language-julia-1.149.2-universal/scripts/packages/VSCodeServer/src/serve_notebook.jl:24\n",
      " [27] withpath(f::VSCodeServer.var\"#217#218\"{VSCodeServer.NotebookRunCellArguments, String}, path::String)\n",
      "    @ VSCodeServer ~/.cursor/extensions/julialang.language-julia-1.149.2-universal/scripts/packages/VSCodeServer/src/repl.jl:276\n",
      " [28] notebook_runcell_request(conn::VSCodeServer.JSONRPC.JSONRPCEndpoint{Base.PipeEndpoint, Base.PipeEndpoint, VSCodeServer.JSON.Serializations.StandardSerialization}, params::VSCodeServer.NotebookRunCellArguments, token::VSCodeServer.CancellationTokens.CancellationToken)\n",
      "    @ VSCodeServer ~/.cursor/extensions/julialang.language-julia-1.149.2-universal/scripts/packages/VSCodeServer/src/serve_notebook.jl:13\n",
      " [29] dispatch_msg(x::VSCodeServer.JSONRPC.JSONRPCEndpoint{Base.PipeEndpoint, Base.PipeEndpoint, VSCodeServer.JSON.Serializations.StandardSerialization}, dispatcher::VSCodeServer.JSONRPC.MsgDispatcher, msg::VSCodeServer.JSONRPC.Request)\n",
      "    @ VSCodeServer.JSONRPC ~/.cursor/extensions/julialang.language-julia-1.149.2-universal/scripts/packages/JSONRPC/src/typed.jl:68\n",
      " [30] serve_notebook(pipename::String, debugger_pipename::String, outputchannel_logger::Base.CoreLogging.SimpleLogger; error_handler::var\"#5#10\"{String})\n",
      "    @ VSCodeServer ~/.cursor/extensions/julialang.language-julia-1.149.2-universal/scripts/packages/VSCodeServer/src/serve_notebook.jl:147\n",
      " [31] top-level scope\n",
      "    @ ~/.cursor/extensions/julialang.language-julia-1.149.2-universal/scripts/notebook/notebook.jl:35"
     ]
    }
   ],
   "source": [
    "# Test if package loads\n",
    "using Pkg\n",
    "Pkg.activate(\"..\")\n",
    "using BouncingDroplet"
   ]
  },
  {
   "cell_type": "code",
   "execution_count": null,
   "metadata": {},
   "outputs": [],
   "source": [
    "# Test basic functionality\n",
    "fluid = water_properties()\n",
    "println(\"Fluid loaded: ρ = $(fluid.ρ) kg/m³\")"
   ]
  },
  {
   "cell_type": "code",
   "execution_count": null,
   "metadata": {},
   "outputs": [],
   "source": [
    "# Test mesh creation\n",
    "mesh = RadialMesh(51, 1.0)\n",
    "println(\"Mesh created: $(mesh.nr) points\")"
   ]
  },
  {
   "cell_type": "code",
   "execution_count": null,
   "metadata": {},
   "outputs": [],
   "source": [
    "# Test operators\n",
    "ΔH = build_laplacian_operator(mesh)\n",
    "println(\"Laplacian: $(size(ΔH))\")"
   ]
  },
  {
   "cell_type": "code",
   "execution_count": null,
   "metadata": {},
   "outputs": [],
   "source": [
    "# Test N operator\n",
    "N_op = DirichletToNeumannOperator(mesh, polar_refinement=6, n_θ=32)\n",
    "println(\"N operator: $(size(N_op.operator_matrix))\")"
   ]
  },
  {
   "cell_type": "code",
   "execution_count": null,
   "metadata": {},
   "outputs": [],
   "source": [
    "println(\"✓ All basic tests passed!\")"
   ]
  }
 ],
 "metadata": {
  "kernelspec": {
   "display_name": "Julia 1.11.7",
   "language": "julia",
   "name": "julia-1.11"
  },
  "language_info": {
   "file_extension": ".jl",
   "mimetype": "application/julia",
   "name": "julia",
   "version": "1.11.7"
  }
 },
 "nbformat": 4,
 "nbformat_minor": 4
}
