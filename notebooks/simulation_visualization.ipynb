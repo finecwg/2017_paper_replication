{
 "cells": [
  {
   "cell_type": "markdown",
   "metadata": {},
   "source": [
    "# Bouncing Droplet Simulation and Visualization\n",
    "\n",
    "This notebook demonstrates the simulation of hydrophobic sphere impact and bouncing droplets.\n",
    "\n",
    "Based on:\n",
    "Galeano-Rios et al. (2017) \"Non-wetting impact of a sphere onto a bath and its application to bouncing droplets\""
   ]
  },
  {
   "cell_type": "code",
   "execution_count": 2,
   "metadata": {},
   "outputs": [
    {
     "name": "stderr",
     "output_type": "stream",
     "text": [
      "┌ Info: Installing 'Julia 1.11.7' kernelspec in /Users/helloworld/Library/Jupyter/kernels/julia-1.11\n",
      "└ @ IJulia /Users/helloworld/.julia/packages/IJulia/f10T5/deps/kspec.jl:125\n"
     ]
    },
    {
     "data": {
      "text/plain": [
       "\"/Users/helloworld/Library/Jupyter/kernels/julia-1.11\""
      ]
     },
     "metadata": {},
     "output_type": "display_data"
    }
   ],
   "source": [
    "using IJulia\n",
    "IJulia.installkernel(\"Julia\", \"--project=@.\")"
   ]
  },
  {
   "cell_type": "code",
   "execution_count": 3,
   "metadata": {},
   "outputs": [
    {
     "name": "stderr",
     "output_type": "stream",
     "text": [
      "\u001b[91m\u001b[1mERROR: \u001b[22m\u001b[39mLoadError: UndefVarError: `DirichletToNeumannOperator` not defined in `BouncingDroplet`\n",
      "Stacktrace:\n",
      " [1] top-level scope\n",
      "\u001b[90m   @\u001b[39m \u001b[90m~/Home/Desktop/amugeona/2017_paper_replication/src/solver/\u001b[39m\u001b[90m\u001b[4mmatrix_assembly.jl:1\u001b[24m\u001b[39m\n",
      " [2] \u001b[0m\u001b[1minclude\u001b[22m\u001b[0m\u001b[1m(\u001b[22m\u001b[90mmod\u001b[39m::\u001b[0mModule, \u001b[90m_path\u001b[39m::\u001b[0mString\u001b[0m\u001b[1m)\u001b[22m\n",
      "\u001b[90m   @\u001b[39m \u001b[90mBase\u001b[39m \u001b[90m./\u001b[39m\u001b[90m\u001b[4mBase.jl:562\u001b[24m\u001b[39m\n",
      " [3] \u001b[0m\u001b[1minclude\u001b[22m\u001b[0m\u001b[1m(\u001b[22m\u001b[90mx\u001b[39m::\u001b[0mString\u001b[0m\u001b[1m)\u001b[22m\n",
      "\u001b[90m   @\u001b[39m \u001b[35mBouncingDroplet\u001b[39m \u001b[90m~/Home/Desktop/amugeona/2017_paper_replication/src/\u001b[39m\u001b[90m\u001b[4mBouncingDroplet.jl:1\u001b[24m\u001b[39m\n",
      " [4] top-level scope\n",
      "\u001b[90m   @\u001b[39m \u001b[90m~/Home/Desktop/amugeona/2017_paper_replication/src/\u001b[39m\u001b[90m\u001b[4mBouncingDroplet.jl:35\u001b[24m\u001b[39m\n",
      " [5] \u001b[0m\u001b[1minclude\u001b[22m\n",
      "\u001b[90m   @\u001b[39m \u001b[90m./\u001b[39m\u001b[90m\u001b[4mBase.jl:562\u001b[24m\u001b[39m\u001b[90m [inlined]\u001b[39m\n",
      " [6] \u001b[0m\u001b[1minclude_package_for_output\u001b[22m\u001b[0m\u001b[1m(\u001b[22m\u001b[90mpkg\u001b[39m::\u001b[0mBase.PkgId, \u001b[90minput\u001b[39m::\u001b[0mString, \u001b[90mdepot_path\u001b[39m::\u001b[0mVector\u001b[90m{String}\u001b[39m, \u001b[90mdl_load_path\u001b[39m::\u001b[0mVector\u001b[90m{String}\u001b[39m, \u001b[90mload_path\u001b[39m::\u001b[0mVector\u001b[90m{String}\u001b[39m, \u001b[90mconcrete_deps\u001b[39m::\u001b[0mVector\u001b[90m{Pair{Base.PkgId, UInt128}}\u001b[39m, \u001b[90msource\u001b[39m::\u001b[0mString\u001b[0m\u001b[1m)\u001b[22m\n",
      "\u001b[90m   @\u001b[39m \u001b[90mBase\u001b[39m \u001b[90m./\u001b[39m\u001b[90m\u001b[4mloading.jl:2881\u001b[24m\u001b[39m\n",
      " [7] top-level scope\n",
      "\u001b[90m   @\u001b[39m \u001b[90m\u001b[4mstdin:6\u001b[24m\u001b[39m\n",
      "in expression starting at /Users/helloworld/Home/Desktop/amugeona/2017_paper_replication/src/solver/matrix_assembly.jl:1\n",
      "in expression starting at /Users/helloworld/Home/Desktop/amugeona/2017_paper_replication/src/BouncingDroplet.jl:1\n",
      "in expression starting at stdin:6\n"
     ]
    },
    {
     "ename": "ErrorException",
     "evalue": "Failed to precompile BouncingDroplet [12345678-1234-1234-1234-123456789abc] to \"/Users/helloworld/.julia/compiled/v1.11/BouncingDroplet/jl_MBYPk7\".",
     "output_type": "error",
     "traceback": [
      "Failed to precompile BouncingDroplet [12345678-1234-1234-1234-123456789abc] to \"/Users/helloworld/.julia/compiled/v1.11/BouncingDroplet/jl_MBYPk7\".\n",
      "\n",
      "Stacktrace:\n",
      "  [1] error(s::String)\n",
      "    @ Base ./error.jl:35\n",
      "  [2] compilecache(pkg::Base.PkgId, path::String, internal_stderr::IO, internal_stdout::IO, keep_loaded_modules::Bool; flags::Cmd, cacheflags::Base.CacheFlags, reasons::Dict{String, Int64}, loadable_exts::Nothing)\n",
      "    @ Base ./loading.jl:3174\n",
      "  [3] (::Base.var\"#1110#1111\"{Base.PkgId})()\n",
      "    @ Base ./loading.jl:2579\n",
      "  [4] mkpidlock(f::Base.var\"#1110#1111\"{Base.PkgId}, at::String, pid::Int32; kwopts::@Kwargs{stale_age::Int64, wait::Bool})\n",
      "    @ FileWatching.Pidfile /Applications/Julia-1.11.app/Contents/Resources/julia/share/julia/stdlib/v1.11/FileWatching/src/pidfile.jl:95\n",
      "  [5] #mkpidlock#6\n",
      "    @ /Applications/Julia-1.11.app/Contents/Resources/julia/share/julia/stdlib/v1.11/FileWatching/src/pidfile.jl:90 [inlined]\n",
      "  [6] trymkpidlock(::Function, ::Vararg{Any}; kwargs::@Kwargs{stale_age::Int64})\n",
      "    @ FileWatching.Pidfile /Applications/Julia-1.11.app/Contents/Resources/julia/share/julia/stdlib/v1.11/FileWatching/src/pidfile.jl:116\n",
      "  [7] #invokelatest#2\n",
      "    @ ./essentials.jl:1057 [inlined]\n",
      "  [8] invokelatest\n",
      "    @ ./essentials.jl:1052 [inlined]\n",
      "  [9] maybe_cachefile_lock(f::Base.var\"#1110#1111\"{Base.PkgId}, pkg::Base.PkgId, srcpath::String; stale_age::Int64)\n",
      "    @ Base ./loading.jl:3698\n",
      " [10] maybe_cachefile_lock\n",
      "    @ ./loading.jl:3695 [inlined]\n",
      " [11] _require(pkg::Base.PkgId, env::String)\n",
      "    @ Base ./loading.jl:2565\n",
      " [12] __require_prelocked(uuidkey::Base.PkgId, env::String)\n",
      "    @ Base ./loading.jl:2388\n",
      " [13] #invoke_in_world#3\n",
      "    @ ./essentials.jl:1089 [inlined]\n",
      " [14] invoke_in_world\n",
      "    @ ./essentials.jl:1086 [inlined]\n",
      " [15] _require_prelocked(uuidkey::Base.PkgId, env::String)\n",
      "    @ Base ./loading.jl:2375\n",
      " [16] macro expansion\n",
      "    @ ./loading.jl:2314 [inlined]\n",
      " [17] macro expansion\n",
      "    @ ./lock.jl:273 [inlined]\n",
      " [18] __require(into::Module, mod::Symbol)\n",
      "    @ Base ./loading.jl:2271\n",
      " [19] #invoke_in_world#3\n",
      "    @ ./essentials.jl:1089 [inlined]\n",
      " [20] invoke_in_world\n",
      "    @ ./essentials.jl:1086 [inlined]\n",
      " [21] require(into::Module, mod::Symbol)\n",
      "    @ Base ./loading.jl:2260\n",
      " [22] eval\n",
      "    @ ./boot.jl:430 [inlined]\n",
      " [23] include_string(mapexpr::typeof(REPL.softscope), mod::Module, code::String, filename::String)\n",
      "    @ Base ./loading.jl:2734\n",
      " [24] #invokelatest#2\n",
      "    @ ./essentials.jl:1055 [inlined]\n",
      " [25] invokelatest\n",
      "    @ ./essentials.jl:1052 [inlined]\n",
      " [26] (::VSCodeServer.var\"#217#218\"{VSCodeServer.NotebookRunCellArguments, String})()\n",
      "    @ VSCodeServer ~/.cursor/extensions/julialang.language-julia-1.149.2-universal/scripts/packages/VSCodeServer/src/serve_notebook.jl:24\n",
      " [27] withpath(f::VSCodeServer.var\"#217#218\"{VSCodeServer.NotebookRunCellArguments, String}, path::String)\n",
      "    @ VSCodeServer ~/.cursor/extensions/julialang.language-julia-1.149.2-universal/scripts/packages/VSCodeServer/src/repl.jl:276\n",
      " [28] notebook_runcell_request(conn::VSCodeServer.JSONRPC.JSONRPCEndpoint{Base.PipeEndpoint, Base.PipeEndpoint, VSCodeServer.JSON.Serializations.StandardSerialization}, params::VSCodeServer.NotebookRunCellArguments, token::VSCodeServer.CancellationTokens.CancellationToken)\n",
      "    @ VSCodeServer ~/.cursor/extensions/julialang.language-julia-1.149.2-universal/scripts/packages/VSCodeServer/src/serve_notebook.jl:13\n",
      " [29] dispatch_msg(x::VSCodeServer.JSONRPC.JSONRPCEndpoint{Base.PipeEndpoint, Base.PipeEndpoint, VSCodeServer.JSON.Serializations.StandardSerialization}, dispatcher::VSCodeServer.JSONRPC.MsgDispatcher, msg::VSCodeServer.JSONRPC.Request)\n",
      "    @ VSCodeServer.JSONRPC ~/.cursor/extensions/julialang.language-julia-1.149.2-universal/scripts/packages/JSONRPC/src/typed.jl:68\n",
      " [30] serve_notebook(pipename::String, debugger_pipename::String, outputchannel_logger::Base.CoreLogging.SimpleLogger; error_handler::var\"#5#10\"{String})\n",
      "    @ VSCodeServer ~/.cursor/extensions/julialang.language-julia-1.149.2-universal/scripts/packages/VSCodeServer/src/serve_notebook.jl:147\n",
      " [31] top-level scope\n",
      "    @ ~/.cursor/extensions/julialang.language-julia-1.149.2-universal/scripts/notebook/notebook.jl:35"
     ]
    }
   ],
   "source": [
    "using BouncingDroplet\n",
    "using Plots\n",
    "using LinearAlgebra\n",
    "using SparseArrays\n",
    "using Printf"
   ]
  },
  {
   "cell_type": "markdown",
   "metadata": {},
   "source": [
    "## 1. Setup Physical Parameters"
   ]
  },
  {
   "cell_type": "code",
   "execution_count": null,
   "metadata": {},
   "outputs": [],
   "source": [
    "# Water properties\n",
    "fluid = water_properties()\n",
    "\n",
    "println(\"Fluid properties:\")\n",
    "println(\"  ρ = $(fluid.ρ) kg/m³\")\n",
    "println(\"  σ = $(fluid.σ) N/m\")\n",
    "println(\"  ν = $(fluid.ν) m²/s\")"
   ]
  },
  {
   "cell_type": "code",
   "execution_count": null,
   "metadata": {},
   "outputs": [],
   "source": [
    "# Sphere properties\n",
    "R₀ = 0.96e-3  # 0.96 mm (from Lee & Kim 2008)\n",
    "ρ_s = 1320.0  # kg/m³\n",
    "V₀ = 0.89     # m/s impact velocity\n",
    "\n",
    "solid = SolidProperties(R₀=R₀, ρ_s=ρ_s)\n",
    "\n",
    "println(\"\\nSolid properties:\")\n",
    "println(\"  R₀ = $(R₀*1000) mm\")\n",
    "println(\"  ρ_s = $(ρ_s) kg/m³\")\n",
    "println(\"  m = $(solid.m*1e6) μg\")\n",
    "println(\"  V₀ = $(V₀) m/s\")"
   ]
  },
  {
   "cell_type": "code",
   "execution_count": null,
   "metadata": {},
   "outputs": [],
   "source": [
    "# Dimensionless numbers\n",
    "params = dimensionless_sphere_impact(fluid, solid, V₀)\n",
    "\n",
    "println(\"\\nDimensionless parameters:\")\n",
    "println(\"  Re = $(round(params.Re, digits=1))\")\n",
    "println(\"  Fr = $(round(params.Fr, digits=1))\")\n",
    "println(\"  We = $(round(params.We, digits=2))\")\n",
    "println(\"  M = $(round(params.M, digits=1))\")"
   ]
  },
  {
   "cell_type": "markdown",
   "metadata": {},
   "source": [
    "## 2. Create Mesh and Operators"
   ]
  },
  {
   "cell_type": "code",
   "execution_count": null,
   "metadata": {},
   "outputs": [],
   "source": [
    "# Create radial mesh\n",
    "mesh = create_mesh_for_sphere(R₀, R₀*10, points_per_radius=40, domain_size_factor=10.0)\n",
    "\n",
    "println(\"Mesh created:\")\n",
    "println(\"  Number of points: $(mesh.nr)\")\n",
    "println(\"  Radial spacing: $(mesh.δr*1e6) μm\")\n",
    "println(\"  Domain radius: $(mesh.R*1000) mm\")"
   ]
  },
  {
   "cell_type": "code",
   "execution_count": null,
   "metadata": {},
   "outputs": [],
   "source": [
    "# Build operators\n",
    "println(\"\\nBuilding operators...\")\n",
    "@time ΔH = build_laplacian_operator(mesh)\n",
    "@time N_op = DirichletToNeumannOperator(mesh, polar_refinement=10, n_θ=128)\n",
    "\n",
    "println(\"Operators built successfully\")"
   ]
  },
  {
   "cell_type": "markdown",
   "metadata": {},
   "source": [
    "## 3. Sphere Geometry"
   ]
  },
  {
   "cell_type": "code",
   "execution_count": null,
   "metadata": {},
   "outputs": [],
   "source": [
    "# Create sphere\n",
    "sphere = SphericalSolid(R₀)\n",
    "z_s = evaluate_on_mesh(sphere, mesh)\n",
    "\n",
    "# Plot sphere profile\n",
    "valid_idx = findall(.!isnan.(z_s))\n",
    "plot(mesh.r[valid_idx]*1000, z_s[valid_idx]*1000,\n",
    "     xlabel=\"r [mm]\", ylabel=\"z_s [mm]\",\n",
    "     title=\"Sphere Surface Profile\",\n",
    "     lw=2, legend=false)\n",
    "hline!([0], ls=:dash, color=:black)"
   ]
  },
  {
   "cell_type": "markdown",
   "metadata": {},
   "source": [
    "## 4. Initial Condition"
   ]
  },
  {
   "cell_type": "code",
   "execution_count": null,
   "metadata": {},
   "outputs": [],
   "source": [
    "# Initial state (sphere above surface)\n",
    "h₀ = 2*R₀  # Initial height of sphere bottom\n",
    "v₀ = -V₀   # Downward velocity\n",
    "\n",
    "state = initialize_impact_state(mesh, sphere, h₀, v₀)\n",
    "\n",
    "println(\"Initial state:\")\n",
    "println(\"  h₀ = $(h₀*1000) mm\")\n",
    "println(\"  v₀ = $(v₀) m/s\")\n",
    "println(\"  Contact: $(state.k_contact > 0)\")"
   ]
  },
  {
   "cell_type": "markdown",
   "metadata": {},
   "source": [
    "## 5. Simulation (Placeholder)\n",
    "\n",
    "**Note**: The full simulation requires a stable fluid solver. Current implementation is for demonstration of structure."
   ]
  },
  {
   "cell_type": "code",
   "execution_count": null,
   "metadata": {},
   "outputs": [],
   "source": [
    "# Simulation parameters\n",
    "δt = 1e-5      # Time step\n",
    "t_max = 0.01   # Maximum simulation time\n",
    "n_steps = Int(t_max / δt)\n",
    "\n",
    "println(\"Simulation setup:\")\n",
    "println(\"  δt = $(δt) s\")\n",
    "println(\"  t_max = $(t_max) s\")\n",
    "println(\"  Total steps = $(n_steps)\")"
   ]
  },
  {
   "cell_type": "markdown",
   "metadata": {},
   "source": [
    "## 6. Visualization Functions"
   ]
  },
  {
   "cell_type": "code",
   "execution_count": null,
   "metadata": {},
   "outputs": [],
   "source": [
    "\"\"\"\n",
    "Plot current state of simulation\n",
    "\"\"\"\n",
    "function plot_state(state, mesh, sphere, z_s)\n",
    "    p1 = plot(mesh.r*1000, state.η*1000,\n",
    "             xlabel=\"r [mm]\", ylabel=\"η [mm]\",\n",
    "             title=\"Free Surface\",\n",
    "             lw=2, label=\"η(r)\")\n",
    "    \n",
    "    # Add sphere position\n",
    "    valid_idx = findall(.!isnan.(z_s))\n",
    "    plot!(mesh.r[valid_idx]*1000, (state.h .+ z_s[valid_idx])*1000,\n",
    "          lw=2, label=\"Sphere\", color=:red)\n",
    "    hline!([0], ls=:dash, color=:black, label=\"\")\n",
    "    \n",
    "    p2 = plot(mesh.r*1000, state.φ,\n",
    "             xlabel=\"r [mm]\", ylabel=\"φ\",\n",
    "             title=\"Velocity Potential\",\n",
    "             lw=2, legend=false)\n",
    "    \n",
    "    p3 = plot(mesh.r*1000, state.ps,\n",
    "             xlabel=\"r [mm]\", ylabel=\"ps\",\n",
    "             title=\"Pressure\",\n",
    "             lw=2, legend=false)\n",
    "    \n",
    "    # Sphere trajectory info\n",
    "    info_text = @sprintf(\"t = %.4f s\\nh = %.2f mm\\nv = %.2f m/s\\nContact: %d points\",\n",
    "                        state.t, state.h*1000, state.ht, state.k_contact)\n",
    "    \n",
    "    p4 = plot(annotation=(0.5, 0.5, info_text), \n",
    "             framestyle=:none, title=\"Status\")\n",
    "    \n",
    "    plot(p1, p2, p3, p4, layout=(2,2), size=(1000, 800))\n",
    "end"
   ]
  },
  {
   "cell_type": "code",
   "execution_count": null,
   "metadata": {},
   "outputs": [],
   "source": [
    "# Plot initial state\n",
    "plot_state(state, mesh, sphere, z_s)"
   ]
  },
  {
   "cell_type": "markdown",
   "metadata": {},
   "source": [
    "## 7. Analysis Functions"
   ]
  },
  {
   "cell_type": "code",
   "execution_count": null,
   "metadata": {},
   "outputs": [],
   "source": [
    "\"\"\"\n",
    "Compute forces on droplet\n",
    "\"\"\"\n",
    "function compute_forces(state, mesh, params)\n",
    "    # Pressure force (placeholder)\n",
    "    F_pressure = sum(state.ps) * mesh.δr * 2π\n",
    "    \n",
    "    # Gravity force\n",
    "    F_gravity = -1/params.Fr\n",
    "    \n",
    "    # Total force\n",
    "    F_total = F_pressure + F_gravity\n",
    "    \n",
    "    return (pressure=F_pressure, gravity=F_gravity, total=F_total)\n",
    "end"
   ]
  },
  {
   "cell_type": "markdown",
   "metadata": {},
   "source": [
    "## 8. Export Functions"
   ]
  },
  {
   "cell_type": "code",
   "execution_count": null,
   "metadata": {},
   "outputs": [],
   "source": [
    "\"\"\"\n",
    "Save simulation results\n",
    "\"\"\"\n",
    "function save_results(filename, history)\n",
    "    # Placeholder for saving data\n",
    "    println(\"Results would be saved to: $filename\")\n",
    "end"
   ]
  },
  {
   "cell_type": "markdown",
   "metadata": {},
   "source": [
    "## Summary\n",
    "\n",
    "This notebook provides the framework for:\n",
    "- Setting up physical parameters\n",
    "- Creating computational mesh\n",
    "- Building differential operators\n",
    "- Initializing simulation state\n",
    "- Visualizing results\n",
    "\n",
    "**Next Steps**:\n",
    "1. Debug and stabilize fluid solver\n",
    "2. Implement full contact solver\n",
    "3. Run sphere impact simulations\n",
    "4. Compare with experimental data (Lee & Kim 2008)\n",
    "5. Implement bouncing droplet simulations"
   ]
  }
 ],
 "metadata": {
  "kernelspec": {
   "display_name": "Julia 1.11.7",
   "language": "julia",
   "name": "julia-1.11"
  },
  "language_info": {
   "file_extension": ".jl",
   "mimetype": "application/julia",
   "name": "julia",
   "version": "1.11.7"
  }
 },
 "nbformat": 4,
 "nbformat_minor": 4
}
